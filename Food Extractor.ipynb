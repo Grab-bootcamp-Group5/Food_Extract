{
 "cells": [
  {
   "cell_type": "code",
   "execution_count": 51,
   "id": "cb5193ae",
   "metadata": {},
   "outputs": [],
   "source": [
    "import re\n",
    "import string\n",
    "from transformers import AutoTokenizer, AutoModelForSeq2SeqLM"
   ]
  },
  {
   "cell_type": "code",
   "execution_count": 52,
   "id": "06de4f43",
   "metadata": {},
   "outputs": [],
   "source": [
    "tokenizer_vi2en = AutoTokenizer.from_pretrained(\n",
    "    \"vinai/vinai-translate-vi2en-v2\",\n",
    "    use_fast=False,\n",
    "    src_lang=\"vi_VN\",\n",
    "    tgt_lang=\"en_XX\"\n",
    ")\n",
    "model_vi2en = AutoModelForSeq2SeqLM.from_pretrained(\"vinai/vinai-translate-vi2en-v2\")"
   ]
  },
  {
   "cell_type": "code",
   "execution_count": 53,
   "id": "e627eedf",
   "metadata": {},
   "outputs": [],
   "source": [
    "def translate_vi2en(vi_text: str) -> str:\n",
    "    inputs = tokenizer_vi2en(vi_text, return_tensors=\"pt\")\n",
    "    decoder_start_token_id = tokenizer_vi2en.lang_code_to_id[\"en_XX\"]\n",
    "    outputs = model_vi2en.generate(\n",
    "        **inputs,\n",
    "        decoder_start_token_id=decoder_start_token_id,\n",
    "        num_beams=5,\n",
    "        early_stopping=True\n",
    "    )\n",
    "    \n",
    "    text = tokenizer_vi2en.decode(outputs[0], skip_special_tokens=True)\n",
    "    \n",
    "    def clean_text(text):\n",
    "        cleaned_text = re.sub(r\"[^A-Za-z(),!?\\'\\`]\", \" \", text)\n",
    "        cleaned_text = re.sub(r\"\\s+\", \" \", cleaned_text).strip()\n",
    "        return cleaned_text\n",
    "\n",
    "    def remove_punctuation(text):\n",
    "        return text.translate(str.maketrans('', '', string.punctuation))\n",
    "\n",
    "    def text_lowercase(text):\n",
    "        return text.lower()\n",
    "\n",
    "    def preprocessing(text):\n",
    "        text = clean_text(text)\n",
    "        text = remove_punctuation(text)\n",
    "        text = text_lowercase(text)\n",
    "        return text\n",
    "    \n",
    "    return preprocessing(text)"
   ]
  },
  {
   "cell_type": "code",
   "execution_count": null,
   "id": "543474f6",
   "metadata": {},
   "outputs": [],
   "source": [
    "from food_model import FoodModel\n",
    "model = FoodModel()"
   ]
  },
  {
   "cell_type": "code",
   "execution_count": 55,
   "id": "e9640614",
   "metadata": {},
   "outputs": [
    {
     "name": "stdout",
     "output_type": "stream",
     "text": [
      "sandwiches of beef\n"
     ]
    }
   ],
   "source": [
    "test = \"\"\"Bánh mì kẹp thịt bò\"\"\"\n",
    "text = translate_vi2en(test)\n",
    "print(text)"
   ]
  },
  {
   "cell_type": "code",
   "execution_count": 56,
   "id": "3e533afd",
   "metadata": {},
   "outputs": [
    {
     "name": "stdout",
     "output_type": "stream",
     "text": [
      "['sandwiches', 'beef']\n"
     ]
    }
   ],
   "source": [
    "res = model.extract_foods(text)\n",
    "unique_ingredients = [\n",
    "    ing['text']\n",
    "    for record in res\n",
    "    for ing in record.get('Ingredient', [])\n",
    "]\n",
    "\n",
    "print(unique_ingredients)"
   ]
  }
 ],
 "metadata": {
  "kernelspec": {
   "display_name": "base",
   "language": "python",
   "name": "python3"
  },
  "language_info": {
   "codemirror_mode": {
    "name": "ipython",
    "version": 3
   },
   "file_extension": ".py",
   "mimetype": "text/x-python",
   "name": "python",
   "nbconvert_exporter": "python",
   "pygments_lexer": "ipython3",
   "version": "3.12.7"
  }
 },
 "nbformat": 4,
 "nbformat_minor": 5
}
