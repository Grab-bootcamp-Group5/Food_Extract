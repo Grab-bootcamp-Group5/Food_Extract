{
 "cells": [
  {
   "cell_type": "code",
   "execution_count": 15,
   "id": "e627eedf",
   "metadata": {},
   "outputs": [],
   "source": [
    "from transformers import AutoTokenizer, AutoModelForSeq2SeqLM\n",
    "\n",
    "tokenizer_vi2en = AutoTokenizer.from_pretrained(\n",
    "    \"vinai/vinai-translate-vi2en-v2\",\n",
    "    use_fast=False,\n",
    "    src_lang=\"vi_VN\",\n",
    "    tgt_lang=\"en_XX\"\n",
    ")\n",
    "model_vi2en = AutoModelForSeq2SeqLM.from_pretrained(\"vinai/vinai-translate-vi2en-v2\")\n",
    "\n",
    "def translate_vi2en(vi_text: str) -> str:\n",
    "    inputs = tokenizer_vi2en(vi_text, return_tensors=\"pt\")\n",
    "    decoder_start_token_id = tokenizer_vi2en.lang_code_to_id[\"en_XX\"]\n",
    "    outputs = model_vi2en.generate(\n",
    "        **inputs,\n",
    "        decoder_start_token_id=decoder_start_token_id,\n",
    "        num_beams=5,\n",
    "        early_stopping=True\n",
    "    )\n",
    "    return tokenizer_vi2en.decode(outputs[0], skip_special_tokens=True)"
   ]
  },
  {
   "cell_type": "code",
   "execution_count": null,
   "id": "543474f6",
   "metadata": {},
   "outputs": [],
   "source": [
    "from food_model import FoodModel\n",
    "model = FoodModel()"
   ]
  },
  {
   "cell_type": "code",
   "execution_count": 17,
   "id": "62b32d05",
   "metadata": {},
   "outputs": [
    {
     "data": {
      "text/plain": [
       "[{'Product': [],\n",
       "  'Ingredient': [{'text': 'almond flour',\n",
       "    'span': [34, 46],\n",
       "    'conf': 0.9803279836972555}]},\n",
       " {'Product': [],\n",
       "  'Ingredient': [{'text': 'pumpkin spice blend',\n",
       "    'span': [11, 30],\n",
       "    'conf': 0.8877270817756653}]},\n",
       " {'Product': [],\n",
       "  'Ingredient': [{'text': 'baking soda',\n",
       "    'span': [11, 22],\n",
       "    'conf': 0.8989846706390381}]},\n",
       " {'Product': [{'text': 'Diamond Crystal kosher salt',\n",
       "    'span': [11, 38],\n",
       "    'conf': 0.7700595160325369}],\n",
       "  'Ingredient': []},\n",
       " {'Product': [],\n",
       "  'Ingredient': [{'text': 'maple syrup',\n",
       "    'span': [15, 26],\n",
       "    'conf': 0.9884961545467377},\n",
       "   {'text': 'honey', 'span': [43, 48], 'conf': 0.9858396053314209}]},\n",
       " {'Product': [],\n",
       "  'Ingredient': [{'text': 'pumpkin puree',\n",
       "    'span': [31, 44],\n",
       "    'conf': 0.9875507950782776}]},\n",
       " {'Product': [],\n",
       "  'Ingredient': [{'text': 'avocado oil',\n",
       "    'span': [11, 22],\n",
       "    'conf': 0.9926817119121552},\n",
       "   {'text': 'coconut oil', 'span': [33, 44], 'conf': 0.9395932555198669}]},\n",
       " {'Product': [],\n",
       "  'Ingredient': [{'text': 'vanilla extract',\n",
       "    'span': [11, 26],\n",
       "    'conf': 0.8279017011324564}]},\n",
       " {'Product': [], 'Ingredient': []}]"
      ]
     },
     "execution_count": 17,
     "metadata": {},
     "output_type": "execute_result"
    }
   ],
   "source": [
    "examples = \"\"\"3 tablespoons (21 grams) blanched almond flour\n",
    "... ¾ teaspoon pumpkin spice blend\n",
    "... ⅛ teaspoon baking soda\n",
    "... ⅛ teaspoon Diamond Crystal kosher salt\n",
    "... 1½ tablespoons maple syrup or 1 tablespoon honey\n",
    "... 1 tablespoon (15 grams) canned pumpkin puree\n",
    "... 1 teaspoon avocado oil or melted coconut oil\n",
    "... ⅛ teaspoon vanilla extract\n",
    "... 1 large egg\"\"\".split(\"\\n\")\n",
    "\n",
    "model.extract_foods(examples)"
   ]
  },
  {
   "cell_type": "code",
   "execution_count": 18,
   "id": "12ee7b29",
   "metadata": {},
   "outputs": [
    {
     "data": {
      "text/plain": [
       "[{'Product': [],\n",
       "  'Ingredient': [{'text': 'banchan',\n",
       "    'span': [182, 189],\n",
       "    'conf': 0.9883177876472473},\n",
       "   {'text': 'rice', 'span': [251, 255], 'conf': 0.9737038016319275},\n",
       "   {'text': 'banchan', 'span': [286, 293], 'conf': 0.9947269856929779},\n",
       "   {'text': 'salt', 'span': [495, 499], 'conf': 0.9849796891212463},\n",
       "   {'text': 'banchan', 'span': [589, 596], 'conf': 0.9946950078010559},\n",
       "   {'text': 'kimchi', 'span': [603, 609], 'conf': 0.9959975679715475},\n",
       "   {'text': 'pickles', 'span': [611, 618], 'conf': 0.994708776473999},\n",
       "   {'text': 'jeotgal', 'span': [623, 630], 'conf': 0.9903813749551773},\n",
       "   {'text': 'salt', 'span': [635, 639], 'conf': 0.6304224729537964},\n",
       "   {'text': 'seafood', 'span': [642, 649], 'conf': 0.9943801462650299}]}]"
      ]
     },
     "execution_count": 18,
     "metadata": {},
     "output_type": "execute_result"
    }
   ],
   "source": [
    "test_text = \"\"\"Banchan-style home cooking is cumulative, which is to say, you might make one or two dishes at a time and keep leftovers in the fridge. \n",
    "The point is that you’re amassing a store of banchan so that, come dinnertime, all that’s left to do is steam the rice and take out your stash.\n",
    "Some banchan can be eaten as soon as you make them. But others are meant to be eaten later, stemming from historic methods of preservation. \n",
    "On the Korean Peninsula, food often had to be preserved, especially with salt, to last through the long, grueling winters. \n",
    "That’s why fermentation is central to many banchan, like kimchi, pickles and jeotgal, or salted seafood.\"\"\".split(\"\\n\\n\")\n",
    "\n",
    "model.extract_foods(test_text)"
   ]
  },
  {
   "cell_type": "code",
   "execution_count": 19,
   "id": "e5788d83",
   "metadata": {},
   "outputs": [
    {
     "name": "stdout",
     "output_type": "stream",
     "text": [
      "['banchan', 'rice', 'banchan', 'salt', 'banchan', 'kimchi', 'pickles', 'jeotgal', 'salt', 'seafood']\n"
     ]
    }
   ],
   "source": [
    "res = model.extract_foods(test_text)\n",
    "unique_ingredients = [\n",
    "    ing['text']\n",
    "    for record in res\n",
    "    for ing in record.get('Ingredient', [])\n",
    "]\n",
    "\n",
    "print(unique_ingredients)"
   ]
  },
  {
   "cell_type": "code",
   "execution_count": 20,
   "id": "e9640614",
   "metadata": {},
   "outputs": [
    {
     "name": "stdout",
     "output_type": "stream",
     "text": [
      "I'd like to make a pizza with beef, cheese and mushrooms.\n"
     ]
    }
   ],
   "source": [
    "test = \"\"\"Tôi muốn làm 1 món pizza với thịt bò, phô mai và nấm.\"\"\"\n",
    "text = translate_vi2en(test)\n",
    "print(text)"
   ]
  },
  {
   "cell_type": "code",
   "execution_count": 21,
   "id": "3e533afd",
   "metadata": {},
   "outputs": [
    {
     "name": "stdout",
     "output_type": "stream",
     "text": [
      "['pizza', 'beef', 'cheese', 'mushrooms']\n"
     ]
    }
   ],
   "source": [
    "res = model.extract_foods(text)\n",
    "unique_ingredients = [\n",
    "    ing['text']\n",
    "    for record in res\n",
    "    for ing in record.get('Ingredient', [])\n",
    "]\n",
    "\n",
    "print(unique_ingredients)"
   ]
  },
  {
   "cell_type": "code",
   "execution_count": null,
   "id": "0578c13a",
   "metadata": {},
   "outputs": [],
   "source": []
  }
 ],
 "metadata": {
  "kernelspec": {
   "display_name": "base",
   "language": "python",
   "name": "python3"
  },
  "language_info": {
   "codemirror_mode": {
    "name": "ipython",
    "version": 3
   },
   "file_extension": ".py",
   "mimetype": "text/x-python",
   "name": "python",
   "nbconvert_exporter": "python",
   "pygments_lexer": "ipython3",
   "version": "3.12.7"
  }
 },
 "nbformat": 4,
 "nbformat_minor": 5
}
